{
  "nbformat": 4,
  "nbformat_minor": 0,
  "metadata": {
    "colab": {
      "provenance": [],
      "toc_visible": true
    },
    "kernelspec": {
      "name": "python3",
      "display_name": "Python 3"
    },
    "language_info": {
      "name": "python"
    }
  },
  "cells": [
    {
      "cell_type": "markdown",
      "source": [
        "## Problem"
      ],
      "metadata": {
        "id": "PDZxOtCZt5VU"
      }
    },
    {
      "cell_type": "markdown",
      "source": [
        "$$f(w_1, w_2) = 0.1w_1^2 + 2w_2^2 \\;\\;\\;\\;\\;\\;\\;(1)$$"
      ],
      "metadata": {
        "id": "Z7esFCIXuNXS"
      }
    },
    {
      "cell_type": "code",
      "source": [
        "import numpy as np"
      ],
      "metadata": {
        "id": "_IAVg99F9N0y"
      },
      "execution_count": 1,
      "outputs": []
    },
    {
      "cell_type": "markdown",
      "source": [
        "### RMSprop"
      ],
      "metadata": {
        "id": "HXAY82X82mDx"
      }
    },
    {
      "cell_type": "code",
      "source": [
        "def df_w(w):\n",
        "    \"\"\"\n",
        "    Thực hiện tính gradient của dw1 và dw2\n",
        "    Arguments:\n",
        "    W -- np.array [w1, w2]\n",
        "    Returns:\n",
        "    dW -- np.array [dw1, dw2], array chứa giá trị đạo hàm theo w1 và w2\n",
        "    \"\"\"\n",
        "    #################### YOUR CODE HERE ####################\n",
        "    dw1 = 0.2 * w[0]\n",
        "    dw2 = 4 * w[1]\n",
        "    dW = np.array([dw1, dw2], dtype=np.float32)\n",
        "    ########################################################\n",
        "    return dW"
      ],
      "metadata": {
        "id": "uai1hzbWuNaK"
      },
      "execution_count": 2,
      "outputs": []
    },
    {
      "cell_type": "code",
      "source": [
        "def RMSProp(W, dW, lr, S, gamma):\n",
        "    \"\"\"\n",
        "    Thực hiện thuật tóan RMSProp để update w1 và w2\n",
        "    Arguments:\n",
        "    W -- np.array: [w1, w2]\n",
        "    dW -- np.array: [dw1, dw2], array chứa giá trị đạo hàm theo w1 và w2\n",
        "    lr -- float: learning rate\n",
        "    S -- np.array: [s1, s2] Exponentially weighted averages bình phương gradients\n",
        "    gamma -- float: hệ số long-range average\n",
        "    Returns:\n",
        "    W -- np.array: [w1, w2] w1 và w2 sau khi đã update\n",
        "    S -- np.array: [s1, s2] Exponentially weighted averages bình phương gradients sau khi đã cập nhật\n",
        "    \"\"\"\n",
        "    epsilon = 1e-6\n",
        "    #################### YOUR CODE HERE ####################\n",
        "\n",
        "    S = gamma * S + (1 - gamma) * (dW ** 2)\n",
        "    W = W - lr * (dW / np.sqrt(S + epsilon))\n",
        "\n",
        "    ########################################################\n",
        "    return W, S"
      ],
      "metadata": {
        "id": "ws1QcU-o3NPi"
      },
      "execution_count": 4,
      "outputs": []
    },
    {
      "cell_type": "code",
      "source": [
        "def train_p1(optimizer, lr, epochs):\n",
        "    \"\"\"\n",
        "    Thực hiện tìm điểm minimum của function (1) dựa vào thuật toán\n",
        "    được truyền vào từ optimizer\n",
        "    Arguments:\n",
        "    optimize : function thực hiện thuật toán optimization cụ thể\n",
        "    lr -- float: learning rate\n",
        "    epochs -- int: số lượng lần (epoch) lặp để tìm điểm minimum\n",
        "    Returns:\n",
        "    results -- list: list các cặp điểm [w1, w2] sau mỗi epoch (mỗi lần cập nhật)\n",
        "    \"\"\"\n",
        "    # initial\n",
        "    W = np.array([-5, -2], dtype=np.float32)\n",
        "    S = np.array([0, 0], dtype=np.float32)\n",
        "    results = [W]\n",
        "    #################### YOUR CODE HERE ####################\n",
        "    # Tạo vòng lặp theo số lần epochs\n",
        "    # tìm gradient dW gồm dw1 và dw2\n",
        "    # dùng thuật toán optimization cập nhật w1, w2, s1, s2\n",
        "    # append cặp [w1, w2] vào list results\n",
        "    for i in range(epochs):\n",
        "        dW = df_w(W)\n",
        "        W, S = optimizer(W, dW, lr, S, 0.9)\n",
        "        results.append(W)\n",
        "    ########################################################\n",
        "    return results"
      ],
      "metadata": {
        "id": "QA_czueo4bz2"
      },
      "execution_count": 5,
      "outputs": []
    },
    {
      "cell_type": "code",
      "source": [
        "train_p1(RMSProp, lr=0.3, epochs=30)"
      ],
      "metadata": {
        "id": "eGVlk8pi4kM5",
        "colab": {
          "base_uri": "https://localhost:8080/"
        },
        "outputId": "161440ce-c5f7-4a1d-8579-67ff8c019a84"
      },
      "execution_count": 6,
      "outputs": [
        {
          "output_type": "execute_result",
          "data": {
            "text/plain": [
              "[array([-5., -2.], dtype=float32),\n",
              " array([-4.0513215, -1.0513167], dtype=float32),\n",
              " array([-3.4351976, -0.5915234], dtype=float32),\n",
              " array([-2.958937 , -0.3294394], dtype=float32),\n",
              " array([-2.5654628, -0.1775648], dtype=float32),\n",
              " array([-2.2292054 , -0.09163254], dtype=float32),\n",
              " array([-1.9362674 , -0.04494498], dtype=float32),\n",
              " array([-1.6781768 , -0.02081422], dtype=float32),\n",
              " array([-1.4493498 , -0.00903558], dtype=float32),\n",
              " array([-1.2458819, -0.0036459], dtype=float32),\n",
              " array([-1.0649029 , -0.00135351], dtype=float32),\n",
              " array([-9.0420210e-01, -4.5644387e-04], dtype=float32),\n",
              " array([-7.6199633e-01, -1.3756269e-04], dtype=float32),\n",
              " array([-6.3677835e-01, -3.6260019e-05], dtype=float32),\n",
              " array([-5.272151e-01, -8.113349e-06], dtype=float32),\n",
              " array([-4.3207839e-01, -1.4747279e-06], dtype=float32),\n",
              " array([-3.5019839e-01, -2.0278276e-07], dtype=float32),\n",
              " array([-2.8043455e-01, -1.8422952e-08], dtype=float32),\n",
              " array([-2.2165975e-01, -7.6773077e-10], dtype=float32),\n",
              " array([-1.7275542e-01,  7.8046458e-12], dtype=float32),\n",
              " array([-1.3261506e-01, -5.0580547e-13], dtype=float32),\n",
              " array([-1.00153714e-01,  6.19139072e-14], dtype=float32),\n",
              " array([-7.4321717e-02, -1.1337699e-14], dtype=float32),\n",
              " array([-5.4120082e-02,  2.8017521e-15], dtype=float32),\n",
              " array([-3.8615879e-02, -8.8136955e-16], dtype=float32),\n",
              " array([-2.6955776e-02,  3.3993253e-16], dtype=float32),\n",
              " array([-1.8376537e-02, -1.5658722e-16], dtype=float32),\n",
              " array([-1.2211589e-02,  8.4502548e-17], dtype=float32),\n",
              " array([-7.893303e-03, -5.263963e-17], dtype=float32),\n",
              " array([-4.9510924e-03,  3.7412241e-17], dtype=float32),\n",
              " array([-3.0057640e-03, -3.0051803e-17], dtype=float32)]"
            ]
          },
          "metadata": {},
          "execution_count": 6
        }
      ]
    }
  ]
}